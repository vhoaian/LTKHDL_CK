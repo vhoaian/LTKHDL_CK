{
 "cells": [
  {
   "cell_type": "markdown",
   "metadata": {},
   "source": [
    "# Đồ án môn học\n",
    "\n",
    "Họ tên: Võ Hoài An\n",
    "\n",
    "MSSV: 1712265"
   ]
  },
  {
   "cell_type": "markdown",
   "metadata": {
    "Collapsed": "false"
   },
   "source": [
    "---"
   ]
  },
  {
   "cell_type": "markdown",
   "metadata": {},
   "source": [
    "## Import"
   ]
  },
  {
   "cell_type": "code",
   "execution_count": 1,
   "metadata": {},
   "outputs": [],
   "source": [
    "%matplotlib inline\n",
    "import matplotlib.pyplot as plt\n",
    "import pandas as pd\n",
    "import numpy as np\n",
    "import json"
   ]
  },
  {
   "cell_type": "markdown",
   "metadata": {
    "nbgrader": {
     "cell_type": "code",
     "checksum": "a49c6ff44966bcc90af915f522e8bc44",
     "grade": true,
     "grade_id": "cell-8d966ec31928fc64",
     "locked": true,
     "points": 0.5,
     "schema_version": 3,
     "solution": false,
     "task": false
    }
   },
   "source": [
    "---"
   ]
  },
  {
   "cell_type": "markdown",
   "metadata": {},
   "source": [
    "## Khám phá dữ liệu"
   ]
  },
  {
   "cell_type": "markdown",
   "metadata": {},
   "source": [
    "Dữ liệu được dùng trong bài này là file ... [ở đây](https://www.kaggle.com/datasnaek/youtube-new)."
   ]
  },
  {
   "cell_type": "markdown",
   "metadata": {},
   "source": [
    "---"
   ]
  },
  {
   "cell_type": "markdown",
   "metadata": {},
   "source": [
    "### Đọc dữ liệu từ file csv vào dataframe"
   ]
  },
  {
   "cell_type": "code",
   "execution_count": 6,
   "metadata": {},
   "outputs": [
    {
     "data": {
      "text/html": [
       "<div>\n",
       "<style scoped>\n",
       "    .dataframe tbody tr th:only-of-type {\n",
       "        vertical-align: middle;\n",
       "    }\n",
       "\n",
       "    .dataframe tbody tr th {\n",
       "        vertical-align: top;\n",
       "    }\n",
       "\n",
       "    .dataframe thead th {\n",
       "        text-align: right;\n",
       "    }\n",
       "</style>\n",
       "<table border=\"1\" class=\"dataframe\">\n",
       "  <thead>\n",
       "    <tr style=\"text-align: right;\">\n",
       "      <th></th>\n",
       "      <th>video_id</th>\n",
       "      <th>trending_date</th>\n",
       "      <th>title</th>\n",
       "      <th>channel_title</th>\n",
       "      <th>category_id</th>\n",
       "      <th>publish_time</th>\n",
       "      <th>tags</th>\n",
       "      <th>views</th>\n",
       "      <th>likes</th>\n",
       "      <th>dislikes</th>\n",
       "      <th>comment_count</th>\n",
       "      <th>thumbnail_link</th>\n",
       "      <th>comments_disabled</th>\n",
       "      <th>ratings_disabled</th>\n",
       "      <th>video_error_or_removed</th>\n",
       "      <th>description</th>\n",
       "    </tr>\n",
       "  </thead>\n",
       "  <tbody>\n",
       "    <tr>\n",
       "      <th>0</th>\n",
       "      <td>2kyS6SvSYSE</td>\n",
       "      <td>17.14.11</td>\n",
       "      <td>WE WANT TO TALK ABOUT OUR MARRIAGE</td>\n",
       "      <td>CaseyNeistat</td>\n",
       "      <td>22</td>\n",
       "      <td>2017-11-13T17:13:01.000Z</td>\n",
       "      <td>SHANtell martin</td>\n",
       "      <td>748374</td>\n",
       "      <td>57527</td>\n",
       "      <td>2966</td>\n",
       "      <td>15954</td>\n",
       "      <td>https://i.ytimg.com/vi/2kyS6SvSYSE/default.jpg</td>\n",
       "      <td>False</td>\n",
       "      <td>False</td>\n",
       "      <td>False</td>\n",
       "      <td>SHANTELL'S CHANNEL - https://www.youtube.com/s...</td>\n",
       "    </tr>\n",
       "    <tr>\n",
       "      <th>1</th>\n",
       "      <td>1ZAPwfrtAFY</td>\n",
       "      <td>17.14.11</td>\n",
       "      <td>The Trump Presidency: Last Week Tonight with J...</td>\n",
       "      <td>LastWeekTonight</td>\n",
       "      <td>24</td>\n",
       "      <td>2017-11-13T07:30:00.000Z</td>\n",
       "      <td>last week tonight trump presidency|\"last week ...</td>\n",
       "      <td>2418783</td>\n",
       "      <td>97185</td>\n",
       "      <td>6146</td>\n",
       "      <td>12703</td>\n",
       "      <td>https://i.ytimg.com/vi/1ZAPwfrtAFY/default.jpg</td>\n",
       "      <td>False</td>\n",
       "      <td>False</td>\n",
       "      <td>False</td>\n",
       "      <td>One year after the presidential election, John...</td>\n",
       "    </tr>\n",
       "    <tr>\n",
       "      <th>2</th>\n",
       "      <td>5qpjK5DgCt4</td>\n",
       "      <td>17.14.11</td>\n",
       "      <td>Racist Superman | Rudy Mancuso, King Bach &amp; Le...</td>\n",
       "      <td>Rudy Mancuso</td>\n",
       "      <td>23</td>\n",
       "      <td>2017-11-12T19:05:24.000Z</td>\n",
       "      <td>racist superman|\"rudy\"|\"mancuso\"|\"king\"|\"bach\"...</td>\n",
       "      <td>3191434</td>\n",
       "      <td>146033</td>\n",
       "      <td>5339</td>\n",
       "      <td>8181</td>\n",
       "      <td>https://i.ytimg.com/vi/5qpjK5DgCt4/default.jpg</td>\n",
       "      <td>False</td>\n",
       "      <td>False</td>\n",
       "      <td>False</td>\n",
       "      <td>WATCH MY PREVIOUS VIDEO ▶ \\n\\nSUBSCRIBE ► http...</td>\n",
       "    </tr>\n",
       "    <tr>\n",
       "      <th>3</th>\n",
       "      <td>puqaWrEC7tY</td>\n",
       "      <td>17.14.11</td>\n",
       "      <td>Nickelback Lyrics: Real or Fake?</td>\n",
       "      <td>Good Mythical Morning</td>\n",
       "      <td>24</td>\n",
       "      <td>2017-11-13T11:00:04.000Z</td>\n",
       "      <td>rhett and link|\"gmm\"|\"good mythical morning\"|\"...</td>\n",
       "      <td>343168</td>\n",
       "      <td>10172</td>\n",
       "      <td>666</td>\n",
       "      <td>2146</td>\n",
       "      <td>https://i.ytimg.com/vi/puqaWrEC7tY/default.jpg</td>\n",
       "      <td>False</td>\n",
       "      <td>False</td>\n",
       "      <td>False</td>\n",
       "      <td>Today we find out if Link is a Nickelback amat...</td>\n",
       "    </tr>\n",
       "    <tr>\n",
       "      <th>4</th>\n",
       "      <td>d380meD0W0M</td>\n",
       "      <td>17.14.11</td>\n",
       "      <td>I Dare You: GOING BALD!?</td>\n",
       "      <td>nigahiga</td>\n",
       "      <td>24</td>\n",
       "      <td>2017-11-12T18:01:41.000Z</td>\n",
       "      <td>ryan|\"higa\"|\"higatv\"|\"nigahiga\"|\"i dare you\"|\"...</td>\n",
       "      <td>2095731</td>\n",
       "      <td>132235</td>\n",
       "      <td>1989</td>\n",
       "      <td>17518</td>\n",
       "      <td>https://i.ytimg.com/vi/d380meD0W0M/default.jpg</td>\n",
       "      <td>False</td>\n",
       "      <td>False</td>\n",
       "      <td>False</td>\n",
       "      <td>I know it's been a while since we did this sho...</td>\n",
       "    </tr>\n",
       "  </tbody>\n",
       "</table>\n",
       "</div>"
      ],
      "text/plain": [
       "      video_id trending_date  \\\n",
       "0  2kyS6SvSYSE      17.14.11   \n",
       "1  1ZAPwfrtAFY      17.14.11   \n",
       "2  5qpjK5DgCt4      17.14.11   \n",
       "3  puqaWrEC7tY      17.14.11   \n",
       "4  d380meD0W0M      17.14.11   \n",
       "\n",
       "                                               title          channel_title  \\\n",
       "0                 WE WANT TO TALK ABOUT OUR MARRIAGE           CaseyNeistat   \n",
       "1  The Trump Presidency: Last Week Tonight with J...        LastWeekTonight   \n",
       "2  Racist Superman | Rudy Mancuso, King Bach & Le...           Rudy Mancuso   \n",
       "3                   Nickelback Lyrics: Real or Fake?  Good Mythical Morning   \n",
       "4                           I Dare You: GOING BALD!?               nigahiga   \n",
       "\n",
       "   category_id              publish_time  \\\n",
       "0           22  2017-11-13T17:13:01.000Z   \n",
       "1           24  2017-11-13T07:30:00.000Z   \n",
       "2           23  2017-11-12T19:05:24.000Z   \n",
       "3           24  2017-11-13T11:00:04.000Z   \n",
       "4           24  2017-11-12T18:01:41.000Z   \n",
       "\n",
       "                                                tags    views   likes  \\\n",
       "0                                    SHANtell martin   748374   57527   \n",
       "1  last week tonight trump presidency|\"last week ...  2418783   97185   \n",
       "2  racist superman|\"rudy\"|\"mancuso\"|\"king\"|\"bach\"...  3191434  146033   \n",
       "3  rhett and link|\"gmm\"|\"good mythical morning\"|\"...   343168   10172   \n",
       "4  ryan|\"higa\"|\"higatv\"|\"nigahiga\"|\"i dare you\"|\"...  2095731  132235   \n",
       "\n",
       "   dislikes  comment_count                                  thumbnail_link  \\\n",
       "0      2966          15954  https://i.ytimg.com/vi/2kyS6SvSYSE/default.jpg   \n",
       "1      6146          12703  https://i.ytimg.com/vi/1ZAPwfrtAFY/default.jpg   \n",
       "2      5339           8181  https://i.ytimg.com/vi/5qpjK5DgCt4/default.jpg   \n",
       "3       666           2146  https://i.ytimg.com/vi/puqaWrEC7tY/default.jpg   \n",
       "4      1989          17518  https://i.ytimg.com/vi/d380meD0W0M/default.jpg   \n",
       "\n",
       "   comments_disabled  ratings_disabled  video_error_or_removed  \\\n",
       "0              False             False                   False   \n",
       "1              False             False                   False   \n",
       "2              False             False                   False   \n",
       "3              False             False                   False   \n",
       "4              False             False                   False   \n",
       "\n",
       "                                         description  \n",
       "0  SHANTELL'S CHANNEL - https://www.youtube.com/s...  \n",
       "1  One year after the presidential election, John...  \n",
       "2  WATCH MY PREVIOUS VIDEO ▶ \\n\\nSUBSCRIBE ► http...  \n",
       "3  Today we find out if Link is a Nickelback amat...  \n",
       "4  I know it's been a while since we did this sho...  "
      ]
     },
     "execution_count": 6,
     "metadata": {},
     "output_type": "execute_result"
    }
   ],
   "source": [
    "video_df = pd.read_csv(\"USvideos.csv\")\n",
    "video_df.head()"
   ]
  },
  {
   "cell_type": "markdown",
   "metadata": {},
   "source": [
    "### Kích thước của dữ liệu"
   ]
  },
  {
   "cell_type": "markdown",
   "metadata": {},
   "source": [
    "Dữ liệu được thu thập là các trending videos từ ngày 14/11/2017 đến ngày 14/06/2018 ở Hoa Kỳ. Ta sẽ đi tính thử kích thước của dữ liệu này, gồm có số dòng và số cột và lưu bào 2 biến `num_rows` và `num_cols`. "
   ]
  },
  {
   "cell_type": "code",
   "execution_count": 8,
   "metadata": {
    "deletable": false,
    "nbgrader": {
     "cell_type": "code",
     "checksum": "0a03dc9216c2e34b0151074d168e31a3",
     "grade": false,
     "grade_id": "cell-bc8810dbc4930a46",
     "locked": false,
     "schema_version": 3,
     "solution": true,
     "task": false
    }
   },
   "outputs": [
    {
     "name": "stdout",
     "output_type": "stream",
     "text": [
      "Dữ liệu gồm có 40949 dòng và 16 cột.\n"
     ]
    }
   ],
   "source": [
    "num_rows = video_df.shape[0] # Số dòng\n",
    "num_cols = video_df.shape[1] # Số cột\n",
    "print(f\"Dữ liệu gồm có {num_rows} dòng và {num_cols} cột.\")"
   ]
  },
  {
   "cell_type": "markdown",
   "metadata": {},
   "source": [
    "### Ý nghĩa mỗi dòng và cột"
   ]
  },
  {
   "attachments": {},
   "cell_type": "markdown",
   "metadata": {},
   "source": [
    "Dưới đây là mô tả các cột dữ liệu:\n",
    "- **video_id**: định danh cho video.\n",
    "- **trending_date**: ngày mà video nằm trên top trending, một video có thể nằm nhiều ngày trên top.\n",
    "- **title**: tiêu đề video.\n",
    "- **channel_title**: tên của kênh (channel) đăng tải video.\n",
    "- **category_id**: ID cho danh mục video.\n",
    "- **publish_time**: ngày xuất bản video.\n",
    "- **tags**: các từ khoá cho video, phân cách bởi dấu `|`.\n",
    "- **views**: lượt xem của video tại thời điểm ghi nhận trending.\n",
    "- **likes**: lượt thích của video tại thời điểm ghi nhận trending.\n",
    "- **dislikes**: lượt không thích của video tại thời điểm ghi nhận trending.\n",
    "- **comment_count**: lượt bình luật của video tại thời điểm ghi nhận trending.\n",
    "- **thumbnail_link**: link đến thumbnail của video.\n",
    "- **comments_disabled**: giá trị boolean thể hiện liệu video có bị đóng bình luận.\n",
    "- **ratings_disabled**:  giá trị boolean thể hiện liệu video có bị đóng nhận xét.\n",
    "- **video_error_or_removed**:  giá trị boolean thể hiện liệu video có bị gỡ hoặc lỗi.\n",
    "- **description**: mô tả cho video.\n",
    "\n",
    "Nhìn vào dữ liệu ở dataframe này, ta có thể thấy mỗi dòng ứng với thông tin của một video trên top trending ở một ngày nhất định."
   ]
  },
  {
   "cell_type": "markdown",
   "metadata": {},
   "source": [
    "### Kiểu dữ liệu"
   ]
  },
  {
   "cell_type": "markdown",
   "metadata": {},
   "source": [
    "Ta đi lấy `dtype` (kiểu dữ liệu của mỗi phần tử) của mỗi cột trong `video_df` và lưu kết quả vào series `col_dtypes`. Từ đó, ta sẽ đi điều chỉnh kiểu dữ liệu cho thích hợp nếu `dtype` chưa đúng như ta kỳ vọng."
   ]
  },
  {
   "cell_type": "code",
   "execution_count": 9,
   "metadata": {
    "deletable": false,
    "nbgrader": {
     "cell_type": "code",
     "checksum": "96e1fdd8f9e7fa97311e690dcdea495b",
     "grade": false,
     "grade_id": "cell-e7c33d274bed2b0c",
     "locked": false,
     "schema_version": 3,
     "solution": true,
     "task": false
    }
   },
   "outputs": [
    {
     "data": {
      "text/plain": [
       "video_id                  object\n",
       "trending_date             object\n",
       "title                     object\n",
       "channel_title             object\n",
       "category_id                int64\n",
       "publish_time              object\n",
       "tags                      object\n",
       "views                      int64\n",
       "likes                      int64\n",
       "dislikes                   int64\n",
       "comment_count              int64\n",
       "thumbnail_link            object\n",
       "comments_disabled           bool\n",
       "ratings_disabled            bool\n",
       "video_error_or_removed      bool\n",
       "description               object\n",
       "dtype: object"
      ]
     },
     "execution_count": 9,
     "metadata": {},
     "output_type": "execute_result"
    }
   ],
   "source": [
    "col_dtypes = video_df.dtypes\n",
    "col_dtypes"
   ]
  },
  {
   "cell_type": "markdown",
   "metadata": {},
   "source": [
    "Hầu hết các kiểu dữ liệu đã chính xác như ta kỳ vọng. Ví dụ như các kiểu dữ liệu dạng chuỗi nên có là `video_id`, `title`, `channel_title`, `thumbnail_link`, `tags` và `description`. Các kiểu dữ liệu dạng số thể hiện cho giá trị đếm là `views`, `likes`, `dislikes`, `comment_count`. Cột `category_id` thể hiện dữ liệu dạng categorical tham chiếu đến thông tin danh mục của video (ta sẽ đưa tên danh mục vào dataframe này sau).\n",
    "\n",
    "Tuy nhiên, có một số cột ta cần phải đưa nó về đúng như kiểu dữ liệu kỳ vọng là cột `trending_date` và `publish_time`, kiểu dữ liệu của chúng nên phải là **datetime**."
   ]
  },
  {
   "cell_type": "markdown",
   "metadata": {},
   "source": [
    "### Miền giá trị của dữ liệu"
   ]
  },
  {
   "cell_type": "markdown",
   "metadata": {},
   "source": [
    "- Trong dữ liệu được thu thập, như đã nói ở phần trước, người ta chỉ thu thập các trending videos từ ngày 14/11/2017 đến ngày 14/06/2018 và chỉ ở Hoa Kỳ.\n",
    "- Ở đây, định dạng datetime của cột `trending_date` đang là `YY.DD.MM`.\n",
    "- Cột `publish_time` lại có một định dạng khác theo chuẩn [ISO 8601](https://en.wikipedia.org/wiki/ISO_8601) là `YYYY-MM-DDThh:mm:ssZ`.\n",
    "- Ta sẽ xử lý để đưa những chuỗi này về kiểu dữ liệu datetime của Python. Nhưng trước hết, ta sẽ đi khám phá các danh mục video trên Youtube."
   ]
  },
  {
   "cell_type": "markdown",
   "metadata": {},
   "source": [
    "#### Đọc dữ liệu từ file json chứa thông tin danh mục vào một dataframe khác"
   ]
  },
  {
   "cell_type": "markdown",
   "metadata": {},
   "source": [
    "Trong dữ liệu download từ Kaggle, file `US_category_id.json` chứa thông tin về các danh mục video trên Youtube. Giờ, ta sẽ khám phá nó!"
   ]
  },
  {
   "cell_type": "code",
   "execution_count": 10,
   "metadata": {},
   "outputs": [
    {
     "data": {
      "text/plain": [
       "dict_keys(['kind', 'etag', 'items'])"
      ]
     },
     "execution_count": 10,
     "metadata": {},
     "output_type": "execute_result"
    }
   ],
   "source": [
    "cat_file = open('US_category_id.json', 'r')\n",
    "cat_response_data = json.load(cat_file)\n",
    "cat_file.close()\n",
    "cat_response_data.keys()"
   ]
  },
  {
   "cell_type": "markdown",
   "metadata": {},
   "source": [
    "Có khá nhiều dữ liệu trong file này. Tuy nhiên, thứ chúng ta cần quan tâm có lẽ là `id` của danh mục và `title` của danh mục đó. Chúng ta sẽ đi trích xuất chung ra một dataframe riêng để sử dụng lúc sau.\n",
    "\n",
    "Dưới đây là mô tả cho các key trong file `US_category_id.json` này:\n",
    "\n",
    "| Key | Kiểu dữ liệu | Ý nghĩa |\n",
    "| --- | --- | --- |\n",
    "| **kind** | str | Identifies the API resource's type. |\n",
    "| **etag** | str | The Etag of this resource. |\n",
    "| **items** | list | A list of video categories that can be associated with YouTube videos. In this map, the video category ID is the map key, and its value is the corresponding videoCategory resource. |\n",
    "\n",
    "(Nguồn: https://developers.google.com/youtube/v3/docs/videoCategories/list)\n",
    "\n",
    "*Như vậy, dữ liệu về các danh mục video trên youtube nằm trong list `items`, ta sẽ xem cấu trúc dữ liệu của chúng như thế nào*\n",
    "\n",
    "Hiện tại, ta chỉ xem xét thử một dict đầu tiên trong list `items` này:"
   ]
  },
  {
   "cell_type": "code",
   "execution_count": 3,
   "metadata": {},
   "outputs": [
    {
     "data": {
      "text/plain": [
       "{'kind': 'youtube#videoCategory',\n",
       " 'etag': '\"m2yskBQFythfE4irbTIeOgYYfBU/Xy1mB4_yLrHy_BmKmPBggty2mZQ\"',\n",
       " 'id': '1',\n",
       " 'snippet': {'channelId': 'UCBR8-60-B28hp2BmDPdntcQ',\n",
       "  'title': 'Film & Animation',\n",
       "  'assignable': True}}"
      ]
     },
     "execution_count": 3,
     "metadata": {},
     "output_type": "execute_result"
    }
   ],
   "source": [
    "# Xem thử một dict trong list\n",
    "cat_response_data['items'][0]"
   ]
  },
  {
   "cell_type": "code",
   "execution_count": 4,
   "metadata": {},
   "outputs": [
    {
     "data": {
      "text/plain": [
       "dict_keys(['kind', 'etag', 'id', 'snippet'])"
      ]
     },
     "execution_count": 4,
     "metadata": {},
     "output_type": "execute_result"
    }
   ],
   "source": [
    "# Xem các key của dict này\n",
    "cat_response_data['items'][0].keys()"
   ]
  },
  {
   "cell_type": "markdown",
   "metadata": {},
   "source": [
    "Dưới đây là mô tả cho các key trong dict này:\n",
    "\n",
    "| Key | Kiểu dữ liệu | Ý nghĩa |\n",
    "| --- | --- | --- |\n",
    "| **kind** | str | Identifies the API resource's type. |\n",
    "| **etag** | str | The Etag of this resource. |\n",
    "| **id** | str | The ID that YouTube uses to uniquely identify the video category. |\n",
    "| **snippet** | dict| The snippet object contains basic details about the video category, including its title. |\n",
    "\n",
    "(Nguồn: https://developers.google.com/youtube/v3/docs/videoCategories)\n",
    "\n",
    "Như vậy, để lấy ra được **tên danh mục** (đây là thứ duy nhất mà ta hiểu được ngay), ta lại phải xem xét đến dict `snippet`:\n",
    "\n",
    "| Key | Kiểu dữ liệu | Ý nghĩa |\n",
    "| --- | --- | --- |\n",
    "| **snippet.channelId** | str | The YouTube channel that created the video category. |\n",
    "| **snippet.title** | str | The video category's title. |\n",
    "| **snippet.assignable** | boolean | Indicates whether videos can be associated with the category. |\n",
    "\n",
    "Thứ chúng ta thực sự cần đã xuất hiện, chính là các key **`snippet.title`** và **`id`** :) và bây giờ chúng ta đã có được tên danh mục các video trên Youtube.\n",
    "\n",
    "Bây giờ, ta sẽ đưa chúng vào một dataframe có tên `cat_df`:"
   ]
  },
  {
   "cell_type": "code",
   "execution_count": 5,
   "metadata": {},
   "outputs": [
    {
     "data": {
      "text/html": [
       "<div>\n",
       "<style scoped>\n",
       "    .dataframe tbody tr th:only-of-type {\n",
       "        vertical-align: middle;\n",
       "    }\n",
       "\n",
       "    .dataframe tbody tr th {\n",
       "        vertical-align: top;\n",
       "    }\n",
       "\n",
       "    .dataframe thead th {\n",
       "        text-align: right;\n",
       "    }\n",
       "</style>\n",
       "<table border=\"1\" class=\"dataframe\">\n",
       "  <thead>\n",
       "    <tr style=\"text-align: right;\">\n",
       "      <th></th>\n",
       "      <th>id</th>\n",
       "      <th>title</th>\n",
       "    </tr>\n",
       "  </thead>\n",
       "  <tbody>\n",
       "    <tr>\n",
       "      <th>0</th>\n",
       "      <td>1</td>\n",
       "      <td>Film &amp; Animation</td>\n",
       "    </tr>\n",
       "    <tr>\n",
       "      <th>1</th>\n",
       "      <td>2</td>\n",
       "      <td>Autos &amp; Vehicles</td>\n",
       "    </tr>\n",
       "    <tr>\n",
       "      <th>2</th>\n",
       "      <td>10</td>\n",
       "      <td>Music</td>\n",
       "    </tr>\n",
       "    <tr>\n",
       "      <th>3</th>\n",
       "      <td>15</td>\n",
       "      <td>Pets &amp; Animals</td>\n",
       "    </tr>\n",
       "    <tr>\n",
       "      <th>4</th>\n",
       "      <td>17</td>\n",
       "      <td>Sports</td>\n",
       "    </tr>\n",
       "  </tbody>\n",
       "</table>\n",
       "</div>"
      ],
      "text/plain": [
       "   id             title\n",
       "0   1  Film & Animation\n",
       "1   2  Autos & Vehicles\n",
       "2  10             Music\n",
       "3  15    Pets & Animals\n",
       "4  17            Sports"
      ]
     },
     "execution_count": 5,
     "metadata": {},
     "output_type": "execute_result"
    }
   ],
   "source": [
    "# Lấy danh dách items từ data ban đầu\n",
    "cat_response_items = cat_response_data['items']\n",
    "# Tạo một dict có 2 keys là id và title\n",
    "cat_dict = {'id': [], 'title': []}\n",
    "# Đổ dữ liệu từ cat_response_items vào 2 list trong dict này\n",
    "for item in cat_response_items:\n",
    "    cat_dict['id'].append(item['id'])\n",
    "    cat_dict['title'].append(item['snippet']['title'])\n",
    "# Tạo cat_df từ dict này\n",
    "cat_df = pd.DataFrame(cat_dict)\n",
    "cat_df.head()"
   ]
  },
  {
   "cell_type": "markdown",
   "metadata": {},
   "source": [
    "**<font color=red>Vấn đề:</font>**\n",
    "\n",
    "- Cột \"Date\" đang có dtype là `str`. Để có thể tiếp tục khám phá thêm về cột này, ta sẽ thực hiện bước tiền xử lý là chuyển sang dạng `datetime`.\n",
    "- Cột \"District\" và \"CommunityArea\" có dtype gồm 2 loại là `str` và `float`. Nếu thí nghiệm thêm thì bạn sẽ thấy `float` là ứng với `NaN`, còn `str` là ứng với mã (dạng số) của \"District\" hoặc \"CommunityArea\". Tuy nhiên, cũng có trường hợp mã là `float` (ví dụ, cột \"CommunityArea\", index 131072). Để có thể tiếp tục khám phá thêm về 2 cột này, ta cũng sẽ thực hiện bước tiền xử lý là chuyển tất cả sang dtype là `float`."
   ]
  },
  {
   "cell_type": "markdown",
   "metadata": {},
   "source": [
    "---"
   ]
  },
  {
   "cell_type": "markdown",
   "metadata": {},
   "source": [
    "## Tiền xử lý"
   ]
  },
  {
   "cell_type": "markdown",
   "metadata": {},
   "source": [
    "### Chuyển dtype của cột \"Date\" sang datetime (0.5đ)"
   ]
  },
  {
   "cell_type": "markdown",
   "metadata": {},
   "source": [
    "Bạn hãy chuyển `dtype` của cột \"Date\" sang kiểu dữ liệu thời gian (sau khi làm xong thì cột \"Date\" trong `mvt_df` phải thay đổi `dtype`). Gợi ý: bạn có thể dùng câu lệnh `pd.to_datetime`; khi dùng `pd.to_datetime`, bạn truyền tham số `format=\"%m/%d/%y %H:%M\"` (nếu không thì sẽ chạy rất chậm vì Pandas phải đoán format)."
   ]
  },
  {
   "cell_type": "code",
   "execution_count": 9,
   "metadata": {
    "deletable": false,
    "nbgrader": {
     "cell_type": "code",
     "checksum": "ddf290b1ea2092ab7a32e6b7921c0406",
     "grade": false,
     "grade_id": "cell-39a0a94d173359e5",
     "locked": false,
     "schema_version": 3,
     "solution": true,
     "task": false
    }
   },
   "outputs": [],
   "source": [
    "# YOUR CODE HERE\n",
    "mvt_df['Date'] = mvt_df['Date'].apply(pd.to_datetime, format=\"%m/%d/%y %H:%M\")"
   ]
  },
  {
   "cell_type": "markdown",
   "metadata": {},
   "source": [
    "### Chuyển dtype của cột \"District\" và \"CommunityArea\" sang float (0.75đ)"
   ]
  },
  {
   "cell_type": "markdown",
   "metadata": {},
   "source": [
    "Bạn hãy chuyển `dtype` của cột \"District\" và \"CommunityArea\" sang `float` (sau khi làm xong thì cột \"District\" và \"CommunityArea\" trong `mvt_df` phải thay đổi `dtype`). Nếu bạn thử chuyển thì sẽ bị báo lỗi vì trong các cột này có giá trị là \" \" (chuỗi có một khoảng trắng). Vậy thì trước khi chuyển, bạn phải replace các giá trị \" \" bằng NaN.  "
   ]
  },
  {
   "cell_type": "code",
   "execution_count": 15,
   "metadata": {
    "deletable": false,
    "nbgrader": {
     "cell_type": "code",
     "checksum": "04e2fbb9a221dd48d795c26dcab9017e",
     "grade": false,
     "grade_id": "cell-82a6fc90114be977",
     "locked": false,
     "schema_version": 3,
     "solution": true,
     "task": false
    }
   },
   "outputs": [],
   "source": [
    "# YOUR CODE HERE\n",
    "mvt_df['District'].replace(' ', '', inplace=True)\n",
    "mvt_df['CommunityArea'].replace(' ', '', inplace=True)\n",
    "mvt_df['District'] = pd.to_numeric(mvt_df['District'])\n",
    "mvt_df['CommunityArea'] = pd.to_numeric(mvt_df['CommunityArea'])"
   ]
  },
  {
   "cell_type": "markdown",
   "metadata": {},
   "source": [
    "---"
   ]
  },
  {
   "cell_type": "markdown",
   "metadata": {},
   "source": [
    "## Quay lại bước khám phá dữ liệu"
   ]
  },
  {
   "cell_type": "markdown",
   "metadata": {},
   "source": [
    "### Các cột dạng numeric và datetime có miền giá trị như thế nào? (0.5đ)"
   ]
  },
  {
   "cell_type": "code",
   "execution_count": 17,
   "metadata": {},
   "outputs": [
    {
     "name": "stdout",
     "output_type": "stream",
     "text": [
      "<class 'pandas.core.frame.DataFrame'>\n",
      "RangeIndex: 191641 entries, 0 to 191640\n",
      "Data columns (total 11 columns):\n",
      " #   Column               Non-Null Count   Dtype         \n",
      "---  ------               --------------   -----         \n",
      " 0   ID                   191641 non-null  int64         \n",
      " 1   Date                 191641 non-null  datetime64[ns]\n",
      " 2   LocationDescription  191641 non-null  object        \n",
      " 3   Arrest               191641 non-null  bool          \n",
      " 4   Domestic             191641 non-null  bool          \n",
      " 5   Beat                 191641 non-null  int64         \n",
      " 6   District             148585 non-null  float64       \n",
      " 7   CommunityArea        167025 non-null  float64       \n",
      " 8   Year                 191641 non-null  int64         \n",
      " 9   Latitude             189365 non-null  float64       \n",
      " 10  Longitude            189365 non-null  float64       \n",
      "dtypes: bool(2), datetime64[ns](1), float64(4), int64(3), object(1)\n",
      "memory usage: 13.5+ MB\n"
     ]
    }
   ],
   "source": [
    "mvt_df.info()"
   ]
  },
  {
   "cell_type": "markdown",
   "metadata": {},
   "source": [
    "Hiện có 8 cột có dạng numeric hoặc datetime: \"ID\", \"Date\", \"Beat\", \"District\", \"CommunityArea\", \"Year\", \"Latitude\", \"Longitude\". Tuy nhiên, cột \"ID\" thì không có gì đáng quan tâm; 3 cột \"Beat\", \"District\", \"CommunityArea\" thật ra là dạng categorical (vì là mã được đánh dưới dạng số). Do đó, ở đây, bạn chỉ tính miền giá trị (min, max) của 4 cột là \"Date\", \"Year\", \"Latitude\", \"Longitude\". Bạn lưu kết quả vào dataframe `col_ranges_df`. Dataframe này có 2 dòng là \"min\", \"max\"; và có 4 cột là \"Date\", \"Year\", \"Latitude\", \"Longitude\".  "
   ]
  },
  {
   "cell_type": "code",
   "execution_count": 18,
   "metadata": {
    "deletable": false,
    "nbgrader": {
     "cell_type": "code",
     "checksum": "d12b1ec973ec213475d1937b0bb81bca",
     "grade": false,
     "grade_id": "cell-4c64c2ce1eea9f1d",
     "locked": false,
     "schema_version": 3,
     "solution": true,
     "task": false
    }
   },
   "outputs": [],
   "source": [
    "# YOUR CODE HERE\n",
    "col_ranges_df = pd.DataFrame([\n",
    "    [mvt_df[\"Date\"].min(), mvt_df[\"Year\"].min(), mvt_df[\"Latitude\"].min(), mvt_df[\"Longitude\"].min()],\n",
    "    [mvt_df[\"Date\"].max(), mvt_df[\"Year\"].max(), mvt_df[\"Latitude\"].max(), mvt_df[\"Longitude\"].max()]\n",
    "], index=['min', 'max'], columns=[\"Date\", \"Year\", \"Latitude\", \"Longitude\"])"
   ]
  },
  {
   "cell_type": "markdown",
   "metadata": {},
   "source": [
    "### Các cột dạng categorical có các giá trị nào? (1đ)"
   ]
  },
  {
   "cell_type": "code",
   "execution_count": 20,
   "metadata": {},
   "outputs": [
    {
     "name": "stdout",
     "output_type": "stream",
     "text": [
      "<class 'pandas.core.frame.DataFrame'>\n",
      "RangeIndex: 191641 entries, 0 to 191640\n",
      "Data columns (total 11 columns):\n",
      " #   Column               Non-Null Count   Dtype         \n",
      "---  ------               --------------   -----         \n",
      " 0   ID                   191641 non-null  int64         \n",
      " 1   Date                 191641 non-null  datetime64[ns]\n",
      " 2   LocationDescription  191641 non-null  object        \n",
      " 3   Arrest               191641 non-null  bool          \n",
      " 4   Domestic             191641 non-null  bool          \n",
      " 5   Beat                 191641 non-null  int64         \n",
      " 6   District             148585 non-null  float64       \n",
      " 7   CommunityArea        167025 non-null  float64       \n",
      " 8   Year                 191641 non-null  int64         \n",
      " 9   Latitude             189365 non-null  float64       \n",
      " 10  Longitude            189365 non-null  float64       \n",
      "dtypes: bool(2), datetime64[ns](1), float64(4), int64(3), object(1)\n",
      "memory usage: 13.5+ MB\n"
     ]
    }
   ],
   "source": [
    "mvt_df.info()"
   ]
  },
  {
   "cell_type": "markdown",
   "metadata": {},
   "source": [
    "`mvt_df` có 4 cột dạng categorical là \"LocationDescription\", \"Beat\", \"District\", \"CommunityArea\". Bạn hãy tính \"range\" của mỗi cột này: số lượng các giá trị khác nhau (không tính NaN), và list gồm 3 giá trị khác nhau đầu tiên sau khi đã sort tăng dần tất cả các giá trị khác nhau. Bạn lưu kết quả vào dataframe `cat_col_ranges_df`. Dataframe này có 2 dòng là \"NumUniqueVals\", \"ThreeFirstVals\"; và có 4 cột là \"LocationDescription\", \"Beat\", \"District\", \"CommunityArea\"."
   ]
  },
  {
   "cell_type": "code",
   "execution_count": 21,
   "metadata": {
    "deletable": false,
    "nbgrader": {
     "cell_type": "code",
     "checksum": "23f3cb37c770722b4ff5fd9acc155577",
     "grade": false,
     "grade_id": "cell-22007ecdcdfa0acc",
     "locked": false,
     "schema_version": 3,
     "solution": true,
     "task": false
    }
   },
   "outputs": [],
   "source": [
    "# YOUR CODE HERE\n",
    "cat_col_ranges_df = pd.DataFrame([\n",
    "    [mvt_df[\"LocationDescription\"].unique().shape[0], mvt_df[\"Beat\"].unique().shape[0], \n",
    "    mvt_df[\"District\"].dropna().unique().shape[0], mvt_df[\"CommunityArea\"].dropna().unique().shape[0]],\n",
    "    \n",
    "    [list(np.sort(mvt_df[\"LocationDescription\"].unique())[0:3]), list(np.sort(mvt_df[\"Beat\"].unique())[0:3]),\n",
    "     list(np.sort(mvt_df[\"District\"].dropna().unique())[0:3]), list(np.sort(mvt_df[\"CommunityArea\"].dropna().unique())[0:3])]\n",
    "],\n",
    "    columns=[\"LocationDescription\", \"Beat\", \"District\", \"CommunityArea\"],\n",
    "    index=[\"NumUniqueVals\", \"ThreeFirstVals\"])\n"
   ]
  },
  {
   "cell_type": "markdown",
   "metadata": {},
   "source": [
    "### Làm rõ hơn về ý nghĩa của các cột \"Beat\", \"District\", \"CommunityArea\" (1đ)"
   ]
  },
  {
   "cell_type": "markdown",
   "metadata": {},
   "source": [
    "Theo mô tả của khóa học \"The Analytics Edge\":\n",
    "- **Beat**: the area, or \"beat\" in which the crime occurred. This is the smallest regional division defined by the Chicago police department.\n",
    "- **District**: the police district in which the crime occured. Each district is composed of many beats, and are defined by the Chicago Police Department.\n",
    "- **CommunityArea**: the community area in which the crime occurred. Since the 1920s, Chicago has been divided into what are called \"community areas\", of which there are now 77. The community areas were devised in an attempt to create socially homogeneous regions.\n",
    "\n",
    "Như vậy, \"Beat\" là đơn vị nhỏ nhất, \"District\" thì gồm nhiều \"Beat\". Vậy có phải là các \"District\" không bị overlap với nhau không? (không có trường hợp mà một \"Beat\" vừa thuộc \"District\" này, vừa thuộc \"District\" kia). Và mỗi \"CommunityArea\" là gồm nhiều \"Beat\" và cũng không overlap với nhau? Để trả lời cho hai câu hỏi này, dưới đây bạn sẽ tính tỉ lệ (từ 0 đến 1) các \"Beat\" mà thuộc nhiều hơn một \"District\", và tỉ lệ các \"Beat\" mà thuộc nhiều hơn một \"CommunityArea\". Bạn lần lượt lưu các kết quả vào hai biến là `multi_district_ratio` và `multi_comarea_ratio`."
   ]
  },
  {
   "cell_type": "code",
   "execution_count": 23,
   "metadata": {
    "deletable": false,
    "nbgrader": {
     "cell_type": "code",
     "checksum": "2268d3a3d5426f2fcdb34418847b7b1f",
     "grade": false,
     "grade_id": "cell-f312e85b9123e0b0",
     "locked": false,
     "schema_version": 3,
     "solution": true,
     "task": false
    }
   },
   "outputs": [],
   "source": [
    "# YOUR CODE HERE\n",
    "df = mvt_df[[\"Beat\", \"District\"]].copy().drop_duplicates()\n",
    "s = df.groupby(\"Beat\")[\"District\"].count() > 1\n",
    "multi_district_ratio = s[s].count()/s.count()\n",
    "\n",
    "df = mvt_df[[\"Beat\", \"CommunityArea\"]].copy().drop_duplicates()\n",
    "s = df.groupby(\"Beat\")[\"CommunityArea\"].count() > 1\n",
    "multi_comarea_ratio = s[s].count()/s.count()"
   ]
  },
  {
   "cell_type": "markdown",
   "metadata": {},
   "source": [
    "### Mỗi cột có bao nhiêu giá trị thiếu? (0.5đ)"
   ]
  },
  {
   "cell_type": "markdown",
   "metadata": {},
   "source": [
    "Bạn hãy tính số lượng giá trị thiếu của mỗi cột và lưu kết quả vào series `col_num_nans`, trong đó index là tên cột. "
   ]
  },
  {
   "cell_type": "code",
   "execution_count": 25,
   "metadata": {
    "deletable": false,
    "nbgrader": {
     "cell_type": "code",
     "checksum": "f84f92660d4f0569486be60bcd2cd551",
     "grade": false,
     "grade_id": "cell-b455eecae88a7e3a",
     "locked": false,
     "schema_version": 3,
     "solution": true,
     "task": false
    }
   },
   "outputs": [],
   "source": [
    "# YOUR CODE HERE\n",
    "col_num_nans = mvt_df.isnull().sum()"
   ]
  },
  {
   "cell_type": "markdown",
   "metadata": {},
   "source": [
    "---"
   ]
  },
  {
   "cell_type": "markdown",
   "metadata": {},
   "source": [
    "## Đưa ra các câu hỏi cần trả lời"
   ]
  },
  {
   "cell_type": "markdown",
   "metadata": {},
   "source": [
    "Sau khi đã khám phá dữ liệu và hiểu hơn về dữ liệu, ta thấy có một số câu hỏi có thể được trả lời bằng dữ liệu:\n",
    "- Số lượng các vụ phạm tội thay đổi như thế nào theo năm?\n",
    "- Với các vụ án xảy ra ở mỗi năm, tỉ lệ bắt được thủ phạm tính đến thời điểm dữ liệu được thu thập là bao nhiêu?\n",
    "- Trong mỗi năm, \"Beat\" nào có nhiều vụ phạm tội nhất và \"Beat\" nào có ít vụ phạm tội nhất?\n",
    "- Trong 3 năm gần đây, 5 loại địa điểm nào (ngoài đường, chỗ đậu xe, ...) có nhiều vụ phạm tội nhất?\n",
    "- Trong mỗi năm của 3 năm gần đây, số lượng các vụ phạm tội thay đổi như thế nào theo tháng?\n",
    "\n",
    "Trong đồ án cuối kỳ, bạn sẽ phải suy nghĩ để đưa ra các câu hỏi có ý nghĩa và cũng phải giải thích để người đọc thấy được là câu hỏi có ý nghĩa. Trong bài tập này, mục đích chính là tập luyện các thao tác xử lý dữ liệu của Pandas nên mình không cần giải thích để người đọc thấy được là các câu hỏi có ý nghĩa. May quá 😉. "
   ]
  },
  {
   "cell_type": "markdown",
   "metadata": {},
   "source": [
    "---"
   ]
  },
  {
   "cell_type": "markdown",
   "metadata": {},
   "source": [
    "## Tiền xử lý"
   ]
  },
  {
   "cell_type": "markdown",
   "metadata": {},
   "source": [
    "### Thêm cột \"Month\" vào dataframe (0.5đ)"
   ]
  },
  {
   "cell_type": "markdown",
   "metadata": {},
   "source": [
    "Trong các câu hỏi ở trên, có câu cần đến thông tin về tháng của vụ phạm tội. Do đó, trước khi phân tích để trả lời cho các câu hỏi, bạn hãy tiền xử lý bằng cách thêm cột \"Month\" (tháng xảy ra vụ phạm tội) vào `mvt_df`. Sau khi thêm thì `mvt_df` phải thay đổi."
   ]
  },
  {
   "cell_type": "markdown",
   "metadata": {},
   "source": [
    "## Khám phá dữ liệu"
   ]
  },
  {
   "cell_type": "markdown",
   "metadata": {},
   "source": []
  }
 ],
 "metadata": {
  "kernelspec": {
   "display_name": "Python 3",
   "language": "python",
   "name": "python3"
  },
  "language_info": {
   "codemirror_mode": {
    "name": "ipython",
    "version": 3
   },
   "file_extension": ".py",
   "mimetype": "text/x-python",
   "name": "python",
   "nbconvert_exporter": "python",
   "pygments_lexer": "ipython3",
   "version": "3.7.6"
  }
 },
 "nbformat": 4,
 "nbformat_minor": 4
}
