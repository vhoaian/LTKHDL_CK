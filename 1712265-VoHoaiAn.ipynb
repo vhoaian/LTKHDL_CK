{
 "cells": [
  {
   "cell_type": "markdown",
   "metadata": {},
   "source": [
    "# Đồ án môn học\n",
    "\n",
    "Họ tên: Võ Hoài An\n",
    "\n",
    "MSSV: 1712265"
   ]
  },
  {
   "cell_type": "markdown",
   "metadata": {
    "Collapsed": "false"
   },
   "source": [
    "---"
   ]
  },
  {
   "cell_type": "markdown",
   "metadata": {},
   "source": [
    "## Import"
   ]
  },
  {
   "cell_type": "code",
   "execution_count": 113,
   "metadata": {},
   "outputs": [],
   "source": [
    "%matplotlib inline\n",
    "import matplotlib.pyplot as plt\n",
    "import pandas as pd\n",
    "import numpy as np\n",
    "import json\n",
    "import math"
   ]
  },
  {
   "cell_type": "markdown",
   "metadata": {
    "nbgrader": {
     "cell_type": "code",
     "checksum": "a49c6ff44966bcc90af915f522e8bc44",
     "grade": true,
     "grade_id": "cell-8d966ec31928fc64",
     "locked": true,
     "points": 0.5,
     "schema_version": 3,
     "solution": false,
     "task": false
    }
   },
   "source": [
    "---"
   ]
  },
  {
   "cell_type": "markdown",
   "metadata": {},
   "source": [
    "## Khám phá dữ liệu"
   ]
  },
  {
   "cell_type": "markdown",
   "metadata": {},
   "source": [
    "Dữ liệu được dùng trong bài này là file ... [ở đây](https://www.kaggle.com/datasnaek/youtube-new)."
   ]
  },
  {
   "cell_type": "markdown",
   "metadata": {},
   "source": [
    "---"
   ]
  },
  {
   "cell_type": "markdown",
   "metadata": {},
   "source": [
    "### Đọc dữ liệu từ file csv vào dataframe"
   ]
  },
  {
   "cell_type": "code",
   "execution_count": 6,
   "metadata": {},
   "outputs": [
    {
     "data": {
      "text/html": [
       "<div>\n",
       "<style scoped>\n",
       "    .dataframe tbody tr th:only-of-type {\n",
       "        vertical-align: middle;\n",
       "    }\n",
       "\n",
       "    .dataframe tbody tr th {\n",
       "        vertical-align: top;\n",
       "    }\n",
       "\n",
       "    .dataframe thead th {\n",
       "        text-align: right;\n",
       "    }\n",
       "</style>\n",
       "<table border=\"1\" class=\"dataframe\">\n",
       "  <thead>\n",
       "    <tr style=\"text-align: right;\">\n",
       "      <th></th>\n",
       "      <th>video_id</th>\n",
       "      <th>trending_date</th>\n",
       "      <th>title</th>\n",
       "      <th>channel_title</th>\n",
       "      <th>category_id</th>\n",
       "      <th>publish_time</th>\n",
       "      <th>tags</th>\n",
       "      <th>views</th>\n",
       "      <th>likes</th>\n",
       "      <th>dislikes</th>\n",
       "      <th>comment_count</th>\n",
       "      <th>thumbnail_link</th>\n",
       "      <th>comments_disabled</th>\n",
       "      <th>ratings_disabled</th>\n",
       "      <th>video_error_or_removed</th>\n",
       "      <th>description</th>\n",
       "    </tr>\n",
       "  </thead>\n",
       "  <tbody>\n",
       "    <tr>\n",
       "      <th>0</th>\n",
       "      <td>2kyS6SvSYSE</td>\n",
       "      <td>17.14.11</td>\n",
       "      <td>WE WANT TO TALK ABOUT OUR MARRIAGE</td>\n",
       "      <td>CaseyNeistat</td>\n",
       "      <td>22</td>\n",
       "      <td>2017-11-13T17:13:01.000Z</td>\n",
       "      <td>SHANtell martin</td>\n",
       "      <td>748374</td>\n",
       "      <td>57527</td>\n",
       "      <td>2966</td>\n",
       "      <td>15954</td>\n",
       "      <td>https://i.ytimg.com/vi/2kyS6SvSYSE/default.jpg</td>\n",
       "      <td>False</td>\n",
       "      <td>False</td>\n",
       "      <td>False</td>\n",
       "      <td>SHANTELL'S CHANNEL - https://www.youtube.com/s...</td>\n",
       "    </tr>\n",
       "    <tr>\n",
       "      <th>1</th>\n",
       "      <td>1ZAPwfrtAFY</td>\n",
       "      <td>17.14.11</td>\n",
       "      <td>The Trump Presidency: Last Week Tonight with J...</td>\n",
       "      <td>LastWeekTonight</td>\n",
       "      <td>24</td>\n",
       "      <td>2017-11-13T07:30:00.000Z</td>\n",
       "      <td>last week tonight trump presidency|\"last week ...</td>\n",
       "      <td>2418783</td>\n",
       "      <td>97185</td>\n",
       "      <td>6146</td>\n",
       "      <td>12703</td>\n",
       "      <td>https://i.ytimg.com/vi/1ZAPwfrtAFY/default.jpg</td>\n",
       "      <td>False</td>\n",
       "      <td>False</td>\n",
       "      <td>False</td>\n",
       "      <td>One year after the presidential election, John...</td>\n",
       "    </tr>\n",
       "    <tr>\n",
       "      <th>2</th>\n",
       "      <td>5qpjK5DgCt4</td>\n",
       "      <td>17.14.11</td>\n",
       "      <td>Racist Superman | Rudy Mancuso, King Bach &amp; Le...</td>\n",
       "      <td>Rudy Mancuso</td>\n",
       "      <td>23</td>\n",
       "      <td>2017-11-12T19:05:24.000Z</td>\n",
       "      <td>racist superman|\"rudy\"|\"mancuso\"|\"king\"|\"bach\"...</td>\n",
       "      <td>3191434</td>\n",
       "      <td>146033</td>\n",
       "      <td>5339</td>\n",
       "      <td>8181</td>\n",
       "      <td>https://i.ytimg.com/vi/5qpjK5DgCt4/default.jpg</td>\n",
       "      <td>False</td>\n",
       "      <td>False</td>\n",
       "      <td>False</td>\n",
       "      <td>WATCH MY PREVIOUS VIDEO ▶ \\n\\nSUBSCRIBE ► http...</td>\n",
       "    </tr>\n",
       "    <tr>\n",
       "      <th>3</th>\n",
       "      <td>puqaWrEC7tY</td>\n",
       "      <td>17.14.11</td>\n",
       "      <td>Nickelback Lyrics: Real or Fake?</td>\n",
       "      <td>Good Mythical Morning</td>\n",
       "      <td>24</td>\n",
       "      <td>2017-11-13T11:00:04.000Z</td>\n",
       "      <td>rhett and link|\"gmm\"|\"good mythical morning\"|\"...</td>\n",
       "      <td>343168</td>\n",
       "      <td>10172</td>\n",
       "      <td>666</td>\n",
       "      <td>2146</td>\n",
       "      <td>https://i.ytimg.com/vi/puqaWrEC7tY/default.jpg</td>\n",
       "      <td>False</td>\n",
       "      <td>False</td>\n",
       "      <td>False</td>\n",
       "      <td>Today we find out if Link is a Nickelback amat...</td>\n",
       "    </tr>\n",
       "    <tr>\n",
       "      <th>4</th>\n",
       "      <td>d380meD0W0M</td>\n",
       "      <td>17.14.11</td>\n",
       "      <td>I Dare You: GOING BALD!?</td>\n",
       "      <td>nigahiga</td>\n",
       "      <td>24</td>\n",
       "      <td>2017-11-12T18:01:41.000Z</td>\n",
       "      <td>ryan|\"higa\"|\"higatv\"|\"nigahiga\"|\"i dare you\"|\"...</td>\n",
       "      <td>2095731</td>\n",
       "      <td>132235</td>\n",
       "      <td>1989</td>\n",
       "      <td>17518</td>\n",
       "      <td>https://i.ytimg.com/vi/d380meD0W0M/default.jpg</td>\n",
       "      <td>False</td>\n",
       "      <td>False</td>\n",
       "      <td>False</td>\n",
       "      <td>I know it's been a while since we did this sho...</td>\n",
       "    </tr>\n",
       "  </tbody>\n",
       "</table>\n",
       "</div>"
      ],
      "text/plain": [
       "      video_id trending_date  \\\n",
       "0  2kyS6SvSYSE      17.14.11   \n",
       "1  1ZAPwfrtAFY      17.14.11   \n",
       "2  5qpjK5DgCt4      17.14.11   \n",
       "3  puqaWrEC7tY      17.14.11   \n",
       "4  d380meD0W0M      17.14.11   \n",
       "\n",
       "                                               title          channel_title  \\\n",
       "0                 WE WANT TO TALK ABOUT OUR MARRIAGE           CaseyNeistat   \n",
       "1  The Trump Presidency: Last Week Tonight with J...        LastWeekTonight   \n",
       "2  Racist Superman | Rudy Mancuso, King Bach & Le...           Rudy Mancuso   \n",
       "3                   Nickelback Lyrics: Real or Fake?  Good Mythical Morning   \n",
       "4                           I Dare You: GOING BALD!?               nigahiga   \n",
       "\n",
       "   category_id              publish_time  \\\n",
       "0           22  2017-11-13T17:13:01.000Z   \n",
       "1           24  2017-11-13T07:30:00.000Z   \n",
       "2           23  2017-11-12T19:05:24.000Z   \n",
       "3           24  2017-11-13T11:00:04.000Z   \n",
       "4           24  2017-11-12T18:01:41.000Z   \n",
       "\n",
       "                                                tags    views   likes  \\\n",
       "0                                    SHANtell martin   748374   57527   \n",
       "1  last week tonight trump presidency|\"last week ...  2418783   97185   \n",
       "2  racist superman|\"rudy\"|\"mancuso\"|\"king\"|\"bach\"...  3191434  146033   \n",
       "3  rhett and link|\"gmm\"|\"good mythical morning\"|\"...   343168   10172   \n",
       "4  ryan|\"higa\"|\"higatv\"|\"nigahiga\"|\"i dare you\"|\"...  2095731  132235   \n",
       "\n",
       "   dislikes  comment_count                                  thumbnail_link  \\\n",
       "0      2966          15954  https://i.ytimg.com/vi/2kyS6SvSYSE/default.jpg   \n",
       "1      6146          12703  https://i.ytimg.com/vi/1ZAPwfrtAFY/default.jpg   \n",
       "2      5339           8181  https://i.ytimg.com/vi/5qpjK5DgCt4/default.jpg   \n",
       "3       666           2146  https://i.ytimg.com/vi/puqaWrEC7tY/default.jpg   \n",
       "4      1989          17518  https://i.ytimg.com/vi/d380meD0W0M/default.jpg   \n",
       "\n",
       "   comments_disabled  ratings_disabled  video_error_or_removed  \\\n",
       "0              False             False                   False   \n",
       "1              False             False                   False   \n",
       "2              False             False                   False   \n",
       "3              False             False                   False   \n",
       "4              False             False                   False   \n",
       "\n",
       "                                         description  \n",
       "0  SHANTELL'S CHANNEL - https://www.youtube.com/s...  \n",
       "1  One year after the presidential election, John...  \n",
       "2  WATCH MY PREVIOUS VIDEO ▶ \\n\\nSUBSCRIBE ► http...  \n",
       "3  Today we find out if Link is a Nickelback amat...  \n",
       "4  I know it's been a while since we did this sho...  "
      ]
     },
     "execution_count": 6,
     "metadata": {},
     "output_type": "execute_result"
    }
   ],
   "source": [
    "video_df = pd.read_csv(\"USvideos.csv\")\n",
    "video_df.head()"
   ]
  },
  {
   "cell_type": "markdown",
   "metadata": {},
   "source": [
    "### Kích thước của dữ liệu"
   ]
  },
  {
   "cell_type": "markdown",
   "metadata": {},
   "source": [
    "Dữ liệu được thu thập là các trending videos từ ngày 14/11/2017 đến ngày 14/06/2018 ở Hoa Kỳ. Ta sẽ đi tính thử kích thước của dữ liệu này, gồm có số dòng và số cột và lưu bào 2 biến `num_rows` và `num_cols`. "
   ]
  },
  {
   "cell_type": "code",
   "execution_count": 8,
   "metadata": {
    "deletable": false,
    "nbgrader": {
     "cell_type": "code",
     "checksum": "0a03dc9216c2e34b0151074d168e31a3",
     "grade": false,
     "grade_id": "cell-bc8810dbc4930a46",
     "locked": false,
     "schema_version": 3,
     "solution": true,
     "task": false
    }
   },
   "outputs": [
    {
     "name": "stdout",
     "output_type": "stream",
     "text": [
      "Dữ liệu gồm có 40949 dòng và 16 cột.\n"
     ]
    }
   ],
   "source": [
    "num_rows = video_df.shape[0] # Số dòng\n",
    "num_cols = video_df.shape[1] # Số cột\n",
    "print(f\"Dữ liệu gồm có {num_rows} dòng và {num_cols} cột.\")"
   ]
  },
  {
   "cell_type": "markdown",
   "metadata": {},
   "source": [
    "### Ý nghĩa mỗi dòng và cột"
   ]
  },
  {
   "attachments": {},
   "cell_type": "markdown",
   "metadata": {},
   "source": [
    "Dưới đây là mô tả các cột dữ liệu:\n",
    "- **video_id**: định danh cho video.\n",
    "- **trending_date**: ngày mà video nằm trên top trending, một video có thể nằm nhiều ngày trên top.\n",
    "- **title**: tiêu đề video.\n",
    "- **channel_title**: tên của kênh (channel) đăng tải video.\n",
    "- **category_id**: ID cho danh mục video.\n",
    "- **publish_time**: ngày xuất bản video.\n",
    "- **tags**: các từ khoá cho video, phân cách bởi dấu `|`.\n",
    "- **views**: lượt xem của video tại thời điểm ghi nhận trending.\n",
    "- **likes**: lượt thích của video tại thời điểm ghi nhận trending.\n",
    "- **dislikes**: lượt không thích của video tại thời điểm ghi nhận trending.\n",
    "- **comment_count**: lượt bình luật của video tại thời điểm ghi nhận trending.\n",
    "- **thumbnail_link**: link đến thumbnail của video.\n",
    "- **comments_disabled**: giá trị boolean thể hiện liệu video có bị đóng bình luận.\n",
    "- **ratings_disabled**:  giá trị boolean thể hiện liệu video có bị đóng nhận xét.\n",
    "- **video_error_or_removed**:  giá trị boolean thể hiện liệu video có bị gỡ hoặc lỗi.\n",
    "- **description**: mô tả cho video.\n",
    "\n",
    "Nhìn vào dữ liệu ở dataframe này, ta có thể thấy mỗi dòng ứng với thông tin của một video trên top trending ở một ngày nhất định."
   ]
  },
  {
   "cell_type": "markdown",
   "metadata": {},
   "source": [
    "### Kiểu dữ liệu"
   ]
  },
  {
   "cell_type": "markdown",
   "metadata": {},
   "source": [
    "Ta đi lấy `dtype` (kiểu dữ liệu của mỗi phần tử) của mỗi cột trong `video_df` và lưu kết quả vào series `col_dtypes`. Từ đó, ta sẽ đi điều chỉnh kiểu dữ liệu cho thích hợp nếu `dtype` chưa đúng như ta kỳ vọng."
   ]
  },
  {
   "cell_type": "code",
   "execution_count": 9,
   "metadata": {
    "deletable": false,
    "nbgrader": {
     "cell_type": "code",
     "checksum": "96e1fdd8f9e7fa97311e690dcdea495b",
     "grade": false,
     "grade_id": "cell-e7c33d274bed2b0c",
     "locked": false,
     "schema_version": 3,
     "solution": true,
     "task": false
    }
   },
   "outputs": [
    {
     "data": {
      "text/plain": [
       "video_id                  object\n",
       "trending_date             object\n",
       "title                     object\n",
       "channel_title             object\n",
       "category_id                int64\n",
       "publish_time              object\n",
       "tags                      object\n",
       "views                      int64\n",
       "likes                      int64\n",
       "dislikes                   int64\n",
       "comment_count              int64\n",
       "thumbnail_link            object\n",
       "comments_disabled           bool\n",
       "ratings_disabled            bool\n",
       "video_error_or_removed      bool\n",
       "description               object\n",
       "dtype: object"
      ]
     },
     "execution_count": 9,
     "metadata": {},
     "output_type": "execute_result"
    }
   ],
   "source": [
    "col_dtypes = video_df.dtypes\n",
    "col_dtypes"
   ]
  },
  {
   "cell_type": "markdown",
   "metadata": {},
   "source": [
    "Hầu hết các kiểu dữ liệu đã chính xác như ta kỳ vọng. Ví dụ như các kiểu dữ liệu dạng chuỗi nên có là `video_id`, `title`, `channel_title`, `thumbnail_link`, `tags` và `description`. Các kiểu dữ liệu dạng số thể hiện cho giá trị đếm là `views`, `likes`, `dislikes`, `comment_count`. Cột `category_id` thể hiện dữ liệu dạng categorical tham chiếu đến thông tin danh mục của video (ta sẽ đưa tên danh mục vào dataframe này sau).\n",
    "\n",
    "Tuy nhiên, có một số cột ta cần phải đưa nó về đúng như kiểu dữ liệu kỳ vọng là cột `trending_date` và `publish_time`, kiểu dữ liệu của chúng nên phải là **datetime**."
   ]
  },
  {
   "cell_type": "markdown",
   "metadata": {},
   "source": [
    "### Miền giá trị của dữ liệu"
   ]
  },
  {
   "cell_type": "markdown",
   "metadata": {},
   "source": [
    "- Trong dữ liệu được thu thập, như đã nói ở phần trước, người ta chỉ thu thập các trending videos từ ngày 14/11/2017 đến ngày 14/06/2018 và chỉ ở Hoa Kỳ.\n",
    "- Ở đây, định dạng datetime của cột `trending_date` đang là `YY.DD.MM`.\n",
    "- Cột `publish_time` lại có một định dạng khác theo chuẩn [ISO 8601](https://en.wikipedia.org/wiki/ISO_8601) là `YYYY-MM-DDThh:mm:ssZ`.\n",
    "- Ta sẽ xử lý để đưa những chuỗi này về kiểu dữ liệu datetime của Pandas. Nhưng trước hết, ta sẽ đi khám phá các danh mục video trên Youtube."
   ]
  },
  {
   "cell_type": "markdown",
   "metadata": {},
   "source": [
    "#### Đọc dữ liệu từ file json chứa thông tin danh mục vào một dataframe khác"
   ]
  },
  {
   "cell_type": "markdown",
   "metadata": {},
   "source": [
    "Trong dữ liệu download từ Kaggle, file `US_category_id.json` chứa thông tin về các danh mục video trên Youtube. Giờ, ta sẽ khám phá nó!"
   ]
  },
  {
   "cell_type": "code",
   "execution_count": 12,
   "metadata": {},
   "outputs": [
    {
     "data": {
      "text/plain": [
       "dict_keys(['kind', 'etag', 'items'])"
      ]
     },
     "execution_count": 12,
     "metadata": {},
     "output_type": "execute_result"
    }
   ],
   "source": [
    "cat_file = open('US_category_id.json', 'r')\n",
    "cat_response_data = json.load(cat_file)\n",
    "cat_file.close()\n",
    "cat_response_data.keys()"
   ]
  },
  {
   "cell_type": "markdown",
   "metadata": {},
   "source": [
    "Có khá nhiều dữ liệu trong file này. Tuy nhiên, thứ chúng ta cần quan tâm có lẽ là `id` của danh mục và `title` của danh mục đó. Chúng ta sẽ đi trích xuất chung ra một dataframe riêng để sử dụng lúc sau.\n",
    "\n",
    "Dưới đây là mô tả cho các key trong file `US_category_id.json` này:\n",
    "\n",
    "| Key | Kiểu dữ liệu | Ý nghĩa |\n",
    "| --- | --- | --- |\n",
    "| **kind** | str | Identifies the API resource's type. |\n",
    "| **etag** | str | The Etag of this resource. |\n",
    "| **items** | list | A list of video categories that can be associated with YouTube videos. In this map, the video category ID is the map key, and its value is the corresponding videoCategory resource. |\n",
    "\n",
    "(Nguồn: https://developers.google.com/youtube/v3/docs/videoCategories/list)\n",
    "\n",
    "*Như vậy, dữ liệu về các danh mục video trên youtube nằm trong list `items`, ta sẽ xem cấu trúc dữ liệu của chúng như thế nào*\n",
    "\n",
    "Hiện tại, ta chỉ xem xét thử một dict đầu tiên trong list `items` này:"
   ]
  },
  {
   "cell_type": "code",
   "execution_count": 13,
   "metadata": {},
   "outputs": [
    {
     "data": {
      "text/plain": [
       "{'kind': 'youtube#videoCategory',\n",
       " 'etag': '\"m2yskBQFythfE4irbTIeOgYYfBU/Xy1mB4_yLrHy_BmKmPBggty2mZQ\"',\n",
       " 'id': '1',\n",
       " 'snippet': {'channelId': 'UCBR8-60-B28hp2BmDPdntcQ',\n",
       "  'title': 'Film & Animation',\n",
       "  'assignable': True}}"
      ]
     },
     "execution_count": 13,
     "metadata": {},
     "output_type": "execute_result"
    }
   ],
   "source": [
    "# Xem thử một dict trong list\n",
    "cat_response_data['items'][0]"
   ]
  },
  {
   "cell_type": "code",
   "execution_count": 14,
   "metadata": {},
   "outputs": [
    {
     "data": {
      "text/plain": [
       "dict_keys(['kind', 'etag', 'id', 'snippet'])"
      ]
     },
     "execution_count": 14,
     "metadata": {},
     "output_type": "execute_result"
    }
   ],
   "source": [
    "# Xem các key của dict này\n",
    "cat_response_data['items'][0].keys()"
   ]
  },
  {
   "cell_type": "markdown",
   "metadata": {},
   "source": [
    "Dưới đây là mô tả cho các key trong dict này:\n",
    "\n",
    "| Key | Kiểu dữ liệu | Ý nghĩa |\n",
    "| --- | --- | --- |\n",
    "| **kind** | str | Identifies the API resource's type. |\n",
    "| **etag** | str | The Etag of this resource. |\n",
    "| **id** | str | The ID that YouTube uses to uniquely identify the video category. |\n",
    "| **snippet** | dict| The snippet object contains basic details about the video category, including its title. |\n",
    "\n",
    "(Nguồn: https://developers.google.com/youtube/v3/docs/videoCategories)\n",
    "\n",
    "Như vậy, để lấy ra được **tên danh mục** (đây là thứ duy nhất mà ta hiểu được ngay), ta lại phải xem xét đến dict `snippet`:\n",
    "\n",
    "| Key | Kiểu dữ liệu | Ý nghĩa |\n",
    "| --- | --- | --- |\n",
    "| **snippet.channelId** | str | The YouTube channel that created the video category. |\n",
    "| **snippet.title** | str | The video category's title. |\n",
    "| **snippet.assignable** | boolean | Indicates whether videos can be associated with the category. |\n",
    "\n",
    "Thứ chúng ta thực sự cần đã xuất hiện, chính là các key **`snippet.title`** và **`id`** :) và bây giờ chúng ta đã có được tên danh mục các video trên Youtube.\n",
    "\n",
    "Bây giờ, ta sẽ đưa chúng vào một dataframe có tên `cat_df`:"
   ]
  },
  {
   "cell_type": "code",
   "execution_count": 15,
   "metadata": {},
   "outputs": [
    {
     "name": "stdout",
     "output_type": "stream",
     "text": [
      "   id          category\n",
      "0   1  Film & Animation\n",
      "1   2  Autos & Vehicles\n",
      "2  10             Music\n",
      "3  15    Pets & Animals\n",
      "4  17            Sports\n"
     ]
    },
    {
     "data": {
      "text/plain": [
       "(32, 2)"
      ]
     },
     "execution_count": 15,
     "metadata": {},
     "output_type": "execute_result"
    }
   ],
   "source": [
    "# Lấy danh dách items từ data ban đầu\n",
    "cat_response_items = cat_response_data['items']\n",
    "# Tạo một dict có 2 keys là id và category\n",
    "cat_dict = {'id': [], 'category': []}\n",
    "# Đổ dữ liệu từ cat_response_items vào 2 list trong dict này\n",
    "for item in cat_response_items:\n",
    "    cat_dict['id'].append(item['id'])\n",
    "    cat_dict['category'].append(item['snippet']['title'])\n",
    "# Tạo cat_df từ dict này\n",
    "cat_df = pd.DataFrame(cat_dict)\n",
    "print(cat_df.head())\n",
    "cat_df.shape"
   ]
  },
  {
   "cell_type": "markdown",
   "metadata": {},
   "source": [
    "Như vậy, ta đã biết được cột `category_id` trong `video_df` lúc nãy chỉ đến danh mục có tên là gì. Tóm lại, ta có tổng cộng 32 danh mục video."
   ]
  },
  {
   "cell_type": "markdown",
   "metadata": {},
   "source": [
    "---"
   ]
  },
  {
   "cell_type": "markdown",
   "metadata": {},
   "source": [
    "## Tiền xử lý"
   ]
  },
  {
   "cell_type": "markdown",
   "metadata": {},
   "source": [
    "### Chuyển dtype của cột \"trending_date\" và \"publish_time\" sang datetime"
   ]
  },
  {
   "cell_type": "markdown",
   "metadata": {},
   "source": [
    "Đầu tiên, ta chuyển `dtype` của cột `trending_date` sang kiểu dữ liệu datetime và gán lại vào đúng cột ban đầu. Cách làm là sử dụng hàm `apply` vào một Series để tạo ra Series mới có dtype là datetime, ta dùng hàm `pd.to_datetime` làm tham số đầu hàm cho hàm `apply`, và tham số `format=\"%y.%d.%m\"`."
   ]
  },
  {
   "cell_type": "code",
   "execution_count": 17,
   "metadata": {
    "deletable": false,
    "nbgrader": {
     "cell_type": "code",
     "checksum": "ddf290b1ea2092ab7a32e6b7921c0406",
     "grade": false,
     "grade_id": "cell-39a0a94d173359e5",
     "locked": false,
     "schema_version": 3,
     "solution": true,
     "task": false
    }
   },
   "outputs": [],
   "source": [
    "video_df['trending_date'] = video_df['trending_date'].apply(pd.to_datetime, format=\"%y.%d.%m\")"
   ]
  },
  {
   "cell_type": "markdown",
   "metadata": {},
   "source": [
    "Để cho chắc chắn là quá trình convert đúng, ta thử kiểm tra lại miền dữ liệu của `trending_date`:"
   ]
  },
  {
   "cell_type": "code",
   "execution_count": 21,
   "metadata": {},
   "outputs": [
    {
     "data": {
      "text/plain": [
       "(Timestamp('2017-11-14 00:00:00'), Timestamp('2018-06-14 00:00:00'))"
      ]
     },
     "execution_count": 21,
     "metadata": {},
     "output_type": "execute_result"
    }
   ],
   "source": [
    "(video_df['trending_date'].min(), video_df['trending_date'].max())"
   ]
  },
  {
   "cell_type": "markdown",
   "metadata": {},
   "source": [
    "Như vậy, miền dữ liệu đã đúng với lúc ban đầu. Bây giờ, ta tiếp tục chuyển đổi dtype cho cột `publish_time`, format lần này sẽ là `%Y-%m-%dT%H:%M:%S.%fZ`:"
   ]
  },
  {
   "cell_type": "code",
   "execution_count": 28,
   "metadata": {},
   "outputs": [],
   "source": [
    "video_df['publish_time'] = video_df['publish_time'].apply(pd.to_datetime, format=\"%Y-%m-%dT%H:%M:%S.%fZ\")"
   ]
  },
  {
   "cell_type": "markdown",
   "metadata": {},
   "source": [
    "### Thêm cột \"category\" vào `video_df`"
   ]
  },
  {
   "cell_type": "markdown",
   "metadata": {},
   "source": [
    "Nếu chỉ để mỗi một cột `category_id` với mỗi video thì thật khó để nhìn thấy được ngay video thuộc vào thể loại tên gì. Bây giờ, ta sẽ đi thêm một cột mới có tên là `category` vào `video_df`. Trước đó, ta đã chuẩn bị sẵn dataframe `cat_df` có 2 cột là `id` và `title`. Hãy nhìn lại dataframe `cat_df`:"
   ]
  },
  {
   "cell_type": "code",
   "execution_count": 43,
   "metadata": {},
   "outputs": [
    {
     "name": "stdout",
     "output_type": "stream",
     "text": [
      "<class 'pandas.core.frame.DataFrame'>\n",
      "RangeIndex: 32 entries, 0 to 31\n",
      "Data columns (total 2 columns):\n",
      " #   Column    Non-Null Count  Dtype \n",
      "---  ------    --------------  ----- \n",
      " 0   id        32 non-null     object\n",
      " 1   category  32 non-null     object\n",
      "dtypes: object(2)\n",
      "memory usage: 640.0+ bytes\n"
     ]
    }
   ],
   "source": [
    "cat_df.info()"
   ]
  },
  {
   "cell_type": "markdown",
   "metadata": {},
   "source": [
    "Trước khi sử dụng, ta phải tiền xử lý trên dataframe này một chút. Bằng cách đưa `dtype` của cột về `int`:"
   ]
  },
  {
   "cell_type": "code",
   "execution_count": 51,
   "metadata": {},
   "outputs": [],
   "source": [
    "cat_df = cat_df.astype({'id': 'int'})"
   ]
  },
  {
   "cell_type": "markdown",
   "metadata": {},
   "source": [
    "Bây giờ, ta sẽ sử dụng hàm `apply` và truyền vào một lambda trả về tên danh mục khi nhận vào id danh mục:"
   ]
  },
  {
   "cell_type": "code",
   "execution_count": 61,
   "metadata": {
    "deletable": false,
    "nbgrader": {
     "cell_type": "code",
     "checksum": "04e2fbb9a221dd48d795c26dcab9017e",
     "grade": false,
     "grade_id": "cell-82a6fc90114be977",
     "locked": false,
     "schema_version": 3,
     "solution": true,
     "task": false
    }
   },
   "outputs": [
    {
     "data": {
      "text/html": [
       "<div>\n",
       "<style scoped>\n",
       "    .dataframe tbody tr th:only-of-type {\n",
       "        vertical-align: middle;\n",
       "    }\n",
       "\n",
       "    .dataframe tbody tr th {\n",
       "        vertical-align: top;\n",
       "    }\n",
       "\n",
       "    .dataframe thead th {\n",
       "        text-align: right;\n",
       "    }\n",
       "</style>\n",
       "<table border=\"1\" class=\"dataframe\">\n",
       "  <thead>\n",
       "    <tr style=\"text-align: right;\">\n",
       "      <th></th>\n",
       "      <th>video_id</th>\n",
       "      <th>trending_date</th>\n",
       "      <th>title</th>\n",
       "      <th>channel_title</th>\n",
       "      <th>category_id</th>\n",
       "      <th>publish_time</th>\n",
       "      <th>tags</th>\n",
       "      <th>views</th>\n",
       "      <th>likes</th>\n",
       "      <th>dislikes</th>\n",
       "      <th>comment_count</th>\n",
       "      <th>thumbnail_link</th>\n",
       "      <th>comments_disabled</th>\n",
       "      <th>ratings_disabled</th>\n",
       "      <th>video_error_or_removed</th>\n",
       "      <th>description</th>\n",
       "      <th>category</th>\n",
       "    </tr>\n",
       "  </thead>\n",
       "  <tbody>\n",
       "    <tr>\n",
       "      <th>0</th>\n",
       "      <td>2kyS6SvSYSE</td>\n",
       "      <td>2017-11-14</td>\n",
       "      <td>WE WANT TO TALK ABOUT OUR MARRIAGE</td>\n",
       "      <td>CaseyNeistat</td>\n",
       "      <td>22</td>\n",
       "      <td>2017-11-13 17:13:01</td>\n",
       "      <td>SHANtell martin</td>\n",
       "      <td>748374</td>\n",
       "      <td>57527</td>\n",
       "      <td>2966</td>\n",
       "      <td>15954</td>\n",
       "      <td>https://i.ytimg.com/vi/2kyS6SvSYSE/default.jpg</td>\n",
       "      <td>False</td>\n",
       "      <td>False</td>\n",
       "      <td>False</td>\n",
       "      <td>SHANTELL'S CHANNEL - https://www.youtube.com/s...</td>\n",
       "      <td>People &amp; Blogs</td>\n",
       "    </tr>\n",
       "    <tr>\n",
       "      <th>1</th>\n",
       "      <td>1ZAPwfrtAFY</td>\n",
       "      <td>2017-11-14</td>\n",
       "      <td>The Trump Presidency: Last Week Tonight with J...</td>\n",
       "      <td>LastWeekTonight</td>\n",
       "      <td>24</td>\n",
       "      <td>2017-11-13 07:30:00</td>\n",
       "      <td>last week tonight trump presidency|\"last week ...</td>\n",
       "      <td>2418783</td>\n",
       "      <td>97185</td>\n",
       "      <td>6146</td>\n",
       "      <td>12703</td>\n",
       "      <td>https://i.ytimg.com/vi/1ZAPwfrtAFY/default.jpg</td>\n",
       "      <td>False</td>\n",
       "      <td>False</td>\n",
       "      <td>False</td>\n",
       "      <td>One year after the presidential election, John...</td>\n",
       "      <td>Entertainment</td>\n",
       "    </tr>\n",
       "    <tr>\n",
       "      <th>2</th>\n",
       "      <td>5qpjK5DgCt4</td>\n",
       "      <td>2017-11-14</td>\n",
       "      <td>Racist Superman | Rudy Mancuso, King Bach &amp; Le...</td>\n",
       "      <td>Rudy Mancuso</td>\n",
       "      <td>23</td>\n",
       "      <td>2017-11-12 19:05:24</td>\n",
       "      <td>racist superman|\"rudy\"|\"mancuso\"|\"king\"|\"bach\"...</td>\n",
       "      <td>3191434</td>\n",
       "      <td>146033</td>\n",
       "      <td>5339</td>\n",
       "      <td>8181</td>\n",
       "      <td>https://i.ytimg.com/vi/5qpjK5DgCt4/default.jpg</td>\n",
       "      <td>False</td>\n",
       "      <td>False</td>\n",
       "      <td>False</td>\n",
       "      <td>WATCH MY PREVIOUS VIDEO ▶ \\n\\nSUBSCRIBE ► http...</td>\n",
       "      <td>Comedy</td>\n",
       "    </tr>\n",
       "    <tr>\n",
       "      <th>3</th>\n",
       "      <td>puqaWrEC7tY</td>\n",
       "      <td>2017-11-14</td>\n",
       "      <td>Nickelback Lyrics: Real or Fake?</td>\n",
       "      <td>Good Mythical Morning</td>\n",
       "      <td>24</td>\n",
       "      <td>2017-11-13 11:00:04</td>\n",
       "      <td>rhett and link|\"gmm\"|\"good mythical morning\"|\"...</td>\n",
       "      <td>343168</td>\n",
       "      <td>10172</td>\n",
       "      <td>666</td>\n",
       "      <td>2146</td>\n",
       "      <td>https://i.ytimg.com/vi/puqaWrEC7tY/default.jpg</td>\n",
       "      <td>False</td>\n",
       "      <td>False</td>\n",
       "      <td>False</td>\n",
       "      <td>Today we find out if Link is a Nickelback amat...</td>\n",
       "      <td>Entertainment</td>\n",
       "    </tr>\n",
       "    <tr>\n",
       "      <th>4</th>\n",
       "      <td>d380meD0W0M</td>\n",
       "      <td>2017-11-14</td>\n",
       "      <td>I Dare You: GOING BALD!?</td>\n",
       "      <td>nigahiga</td>\n",
       "      <td>24</td>\n",
       "      <td>2017-11-12 18:01:41</td>\n",
       "      <td>ryan|\"higa\"|\"higatv\"|\"nigahiga\"|\"i dare you\"|\"...</td>\n",
       "      <td>2095731</td>\n",
       "      <td>132235</td>\n",
       "      <td>1989</td>\n",
       "      <td>17518</td>\n",
       "      <td>https://i.ytimg.com/vi/d380meD0W0M/default.jpg</td>\n",
       "      <td>False</td>\n",
       "      <td>False</td>\n",
       "      <td>False</td>\n",
       "      <td>I know it's been a while since we did this sho...</td>\n",
       "      <td>Entertainment</td>\n",
       "    </tr>\n",
       "  </tbody>\n",
       "</table>\n",
       "</div>"
      ],
      "text/plain": [
       "      video_id trending_date  \\\n",
       "0  2kyS6SvSYSE    2017-11-14   \n",
       "1  1ZAPwfrtAFY    2017-11-14   \n",
       "2  5qpjK5DgCt4    2017-11-14   \n",
       "3  puqaWrEC7tY    2017-11-14   \n",
       "4  d380meD0W0M    2017-11-14   \n",
       "\n",
       "                                               title          channel_title  \\\n",
       "0                 WE WANT TO TALK ABOUT OUR MARRIAGE           CaseyNeistat   \n",
       "1  The Trump Presidency: Last Week Tonight with J...        LastWeekTonight   \n",
       "2  Racist Superman | Rudy Mancuso, King Bach & Le...           Rudy Mancuso   \n",
       "3                   Nickelback Lyrics: Real or Fake?  Good Mythical Morning   \n",
       "4                           I Dare You: GOING BALD!?               nigahiga   \n",
       "\n",
       "   category_id        publish_time  \\\n",
       "0           22 2017-11-13 17:13:01   \n",
       "1           24 2017-11-13 07:30:00   \n",
       "2           23 2017-11-12 19:05:24   \n",
       "3           24 2017-11-13 11:00:04   \n",
       "4           24 2017-11-12 18:01:41   \n",
       "\n",
       "                                                tags    views   likes  \\\n",
       "0                                    SHANtell martin   748374   57527   \n",
       "1  last week tonight trump presidency|\"last week ...  2418783   97185   \n",
       "2  racist superman|\"rudy\"|\"mancuso\"|\"king\"|\"bach\"...  3191434  146033   \n",
       "3  rhett and link|\"gmm\"|\"good mythical morning\"|\"...   343168   10172   \n",
       "4  ryan|\"higa\"|\"higatv\"|\"nigahiga\"|\"i dare you\"|\"...  2095731  132235   \n",
       "\n",
       "   dislikes  comment_count                                  thumbnail_link  \\\n",
       "0      2966          15954  https://i.ytimg.com/vi/2kyS6SvSYSE/default.jpg   \n",
       "1      6146          12703  https://i.ytimg.com/vi/1ZAPwfrtAFY/default.jpg   \n",
       "2      5339           8181  https://i.ytimg.com/vi/5qpjK5DgCt4/default.jpg   \n",
       "3       666           2146  https://i.ytimg.com/vi/puqaWrEC7tY/default.jpg   \n",
       "4      1989          17518  https://i.ytimg.com/vi/d380meD0W0M/default.jpg   \n",
       "\n",
       "   comments_disabled  ratings_disabled  video_error_or_removed  \\\n",
       "0              False             False                   False   \n",
       "1              False             False                   False   \n",
       "2              False             False                   False   \n",
       "3              False             False                   False   \n",
       "4              False             False                   False   \n",
       "\n",
       "                                         description        category  \n",
       "0  SHANTELL'S CHANNEL - https://www.youtube.com/s...  People & Blogs  \n",
       "1  One year after the presidential election, John...   Entertainment  \n",
       "2  WATCH MY PREVIOUS VIDEO ▶ \\n\\nSUBSCRIBE ► http...          Comedy  \n",
       "3  Today we find out if Link is a Nickelback amat...   Entertainment  \n",
       "4  I know it's been a while since we did this sho...   Entertainment  "
      ]
     },
     "execution_count": 61,
     "metadata": {},
     "output_type": "execute_result"
    }
   ],
   "source": [
    "video_df['category'] = video_df['category_id'].apply(lambda cat_id: cat_df[cat_df['id'] == cat_id]['category'].values[0])\n",
    "video_df.head()"
   ]
  },
  {
   "cell_type": "markdown",
   "metadata": {},
   "source": [
    "Sau khi đã hoàn thành các bước trên, giờ ta sẽ kiểm tra lại toàn bộ kiểu dữ liệu của các cột trong `video_df` hiện tại."
   ]
  },
  {
   "cell_type": "code",
   "execution_count": 62,
   "metadata": {},
   "outputs": [
    {
     "name": "stdout",
     "output_type": "stream",
     "text": [
      "<class 'pandas.core.frame.DataFrame'>\n",
      "RangeIndex: 40949 entries, 0 to 40948\n",
      "Data columns (total 17 columns):\n",
      " #   Column                  Non-Null Count  Dtype         \n",
      "---  ------                  --------------  -----         \n",
      " 0   video_id                40949 non-null  object        \n",
      " 1   trending_date           40949 non-null  datetime64[ns]\n",
      " 2   title                   40949 non-null  object        \n",
      " 3   channel_title           40949 non-null  object        \n",
      " 4   category_id             40949 non-null  int64         \n",
      " 5   publish_time            40949 non-null  datetime64[ns]\n",
      " 6   tags                    40949 non-null  object        \n",
      " 7   views                   40949 non-null  int64         \n",
      " 8   likes                   40949 non-null  int64         \n",
      " 9   dislikes                40949 non-null  int64         \n",
      " 10  comment_count           40949 non-null  int64         \n",
      " 11  thumbnail_link          40949 non-null  object        \n",
      " 12  comments_disabled       40949 non-null  bool          \n",
      " 13  ratings_disabled        40949 non-null  bool          \n",
      " 14  video_error_or_removed  40949 non-null  bool          \n",
      " 15  description             40379 non-null  object        \n",
      " 16  category                40949 non-null  object        \n",
      "dtypes: bool(3), datetime64[ns](2), int64(5), object(7)\n",
      "memory usage: 4.5+ MB\n"
     ]
    }
   ],
   "source": [
    "video_df.info()"
   ]
  },
  {
   "cell_type": "markdown",
   "metadata": {},
   "source": [
    "---"
   ]
  },
  {
   "cell_type": "markdown",
   "metadata": {},
   "source": [
    "## Đưa ra các câu hỏi cần trả lời"
   ]
  },
  {
   "cell_type": "markdown",
   "metadata": {},
   "source": [
    "Sau khi đã khám phá dữ liệu và hiểu hơn về dữ liệu, ta thấy có một số câu hỏi có thể được trả lời bằng dữ liệu:\n",
    "- Những videos ở top trending đa số thuộc về thể loại nào?\n",
    "- Thời gian là bao lâu từ lúc người ta đăng tải một video cho đến khi video lên top trending?\n",
    "- Những từ nào hay xuất hiện nhất trong tựa đề  của các videos ở top trending?"
   ]
  },
  {
   "cell_type": "markdown",
   "metadata": {},
   "source": [
    "---"
   ]
  },
  {
   "cell_type": "markdown",
   "metadata": {},
   "source": [
    "## Phân tích dữ liệu để trả lời cho các câu hỏi "
   ]
  },
  {
   "cell_type": "markdown",
   "metadata": {},
   "source": [
    "### Những videos ở top trending đa số thuộc về thể loại nào?\n",
    "\n",
    "Để trả lời cho câu hỏi này, ta sẽ làm như sau:\n",
    "- Bước 1: Tính số lượng các videos thuộc về các thể loại và lưu kết quả vào một Series có tên `num_videos_each_category`, trong đó index là tên của thể loại.\n",
    "- Bước 2: Từ kết quả ở trên, ta vẽ biểu đồ cột, trong đó trục hoành là số lượng videos ở top trending và trục tung là tên thể loại.\n",
    "\n",
    "Giờ ta sẽ đi thực hiện bước 1. Nhưng trước tiên, ở câu hỏi này ta chỉ muốn biết có bao nhiêu video ở các thể loại. Ta không quan tâm đến việc một video ở top trending nhiều ngày liên tục vì bản chất nó cũng chỉ là một video mà thôi. Nên việc ta cần làm là đếm trên một tập dữ liệu mà không có sự trừng lặp về video (nói cách khác là không có `video_id` nào bị trùng)"
   ]
  },
  {
   "cell_type": "code",
   "execution_count": 79,
   "metadata": {},
   "outputs": [],
   "source": [
    "no_dup_video_df = video_df.drop_duplicates(subset=['video_id'], keep='first')\n",
    "num_videos_each_category = no_dup_video_df.groupby('category').size()\n",
    "num_videos_each_category.sort_values(inplace=True)"
   ]
  },
  {
   "cell_type": "code",
   "execution_count": 80,
   "metadata": {},
   "outputs": [
    {
     "data": {
      "image/png": "[encoded data removed]",
      "text/plain": [
       "<Figure size 432x288 with 1 Axes>"
      ]
     },
     "metadata": {
      "needs_background": "light"
     },
     "output_type": "display_data"
    }
   ],
   "source": [
    "num_videos_each_category.plot.barh()\n",
    "plt.xlabel(\"NumTrendingVideos\");"
   ]
  },
  {
   "cell_type": "markdown",
   "metadata": {},
   "source": [
    "### Thời gian là bao lâu từ lúc người ta đăng tải một video cho đến khi video lên top trending?\n",
    "\n",
    "Để trả lời cho câu hỏi này, ta sẽ làm như sau:\n",
    "- Bước 1: Tính độ lệch thời gian từ lúc đăng tải đến ngày mà video lên top trending lần đầu tiên. Do không có thông tin chính xác về thời gian mà tác giả \"lấy\" trending videos, ta giả sử mốc này là 00:00.\n",
    "- Bước 2: Từ kết quả ở trên, ta vẽ biểu đồ đường, trong đó trục hoành là thời gian từ lúc đăng đến lúc lên top trending và trục tung là số lượng video tại thời gian đó."
   ]
  },
  {
   "cell_type": "code",
   "execution_count": 182,
   "metadata": {},
   "outputs": [
    {
     "data": {
      "text/plain": [
       "<matplotlib.axes._subplots.AxesSubplot at 0x11883bf3c48>"
      ]
     },
     "execution_count": 182,
     "metadata": {},
     "output_type": "execute_result"
    },
    {
     "data": {
      "image/png": "[encoded data removed]",
      "text/plain": [
       "<Figure size 432x288 with 1 Axes>"
      ]
     },
     "metadata": {
      "needs_background": "light"
     },
     "output_type": "display_data"
    }
   ],
   "source": [
    "# Thêm cột delta vào dataframe biểu diễn thời gian lên trending của video, kiểu `datetime.timedelta`\n",
    "df = no_dup_video_df.assign(delta = lambda video: video.trending_date - video.publish_time)\n",
    "# Series có values là thời gian lên trending của video (tính theo giờ)\n",
    "trending_taken_hrs = df['delta'].apply(lambda video: math.ceil((video.days*24*3600 + video.seconds)/3600))\n",
    "trending_taken_hrs.value_counts().iloc[:100].sort_index().plot.line()"
   ]
  },
  {
   "cell_type": "markdown",
   "metadata": {},
   "source": [
    "### Những từ nào hay xuất hiện nhất trong tựa đề  của các videos ở top trending?\n",
    "\n",
    "Để trả lời cho câu hỏi này, ta sẽ làm như sau:\n",
    "- Bước 1: Tính độ lệch thời gian từ lúc đăng tải đến ngày mà video lên top trending lần đầu tiên. Do không có thông tin chính xác về thời gian mà tác giả \"lấy\" trending videos, ta giả sử mốc này là 00:00.\n",
    "- Bước 2: Từ kết quả ở trên, ta vẽ biểu đồ đường, trong đó trục hoành là thời gian từ lúc đăng đến lúc lên top trending và trục tung là số lượng video tại thời gian đó."
   ]
  },
  {
   "cell_type": "markdown",
   "metadata": {},
   "source": [
    "---"
   ]
  }
 ],
 "metadata": {
  "kernelspec": {
   "display_name": "Python 3",
   "language": "python",
   "name": "python3"
  },
  "language_info": {
   "codemirror_mode": {
    "name": "ipython",
    "version": 3
   },
   "file_extension": ".py",
   "mimetype": "text/x-python",
   "name": "python",
   "nbconvert_exporter": "python",
   "pygments_lexer": "ipython3",
   "version": "3.7.6"
  }
 },
 "nbformat": 4,
 "nbformat_minor": 4
}
